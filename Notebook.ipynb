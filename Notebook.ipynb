{
 "cells": [
  {
   "cell_type": "markdown",
   "metadata": {},
   "source": [
    "# Import Packages"
   ]
  },
  {
   "cell_type": "code",
   "execution_count": 1,
   "metadata": {},
   "outputs": [],
   "source": [
    "import warnings\n",
    "warnings.filterwarnings('ignore')"
   ]
  },
  {
   "cell_type": "code",
   "execution_count": 2,
   "metadata": {},
   "outputs": [],
   "source": [
    "import numpy as np\n",
    "import pandas as pd\n",
    "import pickle # saving and loading trained model\n",
    "from os import path\n",
    "\n",
    "# importing required libraries for normalizing data\n",
    "from sklearn import preprocessing\n",
    "from sklearn.preprocessing import (StandardScaler, OrdinalEncoder,LabelEncoder, MinMaxScaler, OneHotEncoder)\n",
    "from sklearn.preprocessing import Normalizer, MaxAbsScaler , RobustScaler, PowerTransformer\n",
    "\n",
    "# importing library for plotting\n",
    "import matplotlib.pyplot as plt\n",
    "import seaborn as sns"
   ]
  },
  {
   "cell_type": "markdown",
   "metadata": {},
   "source": [
    "# Data Exploration"
   ]
  },
  {
   "cell_type": "code",
   "execution_count": 3,
   "metadata": {},
   "outputs": [],
   "source": [
    "feature=[\"duration\",\"protocol_type\",\"service\",\"flag\",\"src_bytes\",\"dst_bytes\",\"land\",\"wrong_fragment\",\"urgent\",\"hot\",\n",
    "          \"num_failed_logins\",\"logged_in\",\"num_compromised\",\"root_shell\",\"su_attempted\",\"num_root\",\"num_file_creations\",\"num_shells\",\n",
    "          \"num_access_files\",\"num_outbound_cmds\",\"is_host_login\",\"is_guest_login\",\"count\",\"srv_count\",\"serror_rate\",\"srv_serror_rate\",\n",
    "          \"rerror_rate\",\"srv_rerror_rate\",\"same_srv_rate\",\"diff_srv_rate\",\"srv_diff_host_rate\",\"dst_host_count\",\"dst_host_srv_count\", \n",
    "          \"dst_host_same_srv_rate\",\"dst_host_diff_srv_rate\",\"dst_host_same_src_port_rate\",\"dst_host_srv_diff_host_rate\",\"dst_host_serror_rate\",\n",
    "          \"dst_host_srv_serror_rate\",\"dst_host_rerror_rate\",\"dst_host_srv_rerror_rate\",\"label\",\"difficulty\"]"
   ]
  },
  {
   "cell_type": "code",
   "execution_count": 4,
   "metadata": {},
   "outputs": [],
   "source": [
    "train='nsl-kdd/KDDTrain+.txt'\n",
    "test='nsl-kdd/KDDTest+.txt'\n",
    "test21='nsl-kdd/KDDTest-21.txt'\n",
    "train_data=pd.read_csv(train,names=feature)"
   ]
  },
  {
   "cell_type": "code",
   "execution_count": 5,
   "metadata": {},
   "outputs": [
    {
     "data": {
      "text/html": [
       "<div>\n",
       "<style scoped>\n",
       "    .dataframe tbody tr th:only-of-type {\n",
       "        vertical-align: middle;\n",
       "    }\n",
       "\n",
       "    .dataframe tbody tr th {\n",
       "        vertical-align: top;\n",
       "    }\n",
       "\n",
       "    .dataframe thead th {\n",
       "        text-align: right;\n",
       "    }\n",
       "</style>\n",
       "<table border=\"1\" class=\"dataframe\">\n",
       "  <thead>\n",
       "    <tr style=\"text-align: right;\">\n",
       "      <th></th>\n",
       "      <th>duration</th>\n",
       "      <th>protocol_type</th>\n",
       "      <th>service</th>\n",
       "      <th>flag</th>\n",
       "      <th>src_bytes</th>\n",
       "      <th>dst_bytes</th>\n",
       "      <th>land</th>\n",
       "      <th>wrong_fragment</th>\n",
       "      <th>urgent</th>\n",
       "      <th>hot</th>\n",
       "      <th>...</th>\n",
       "      <th>dst_host_same_srv_rate</th>\n",
       "      <th>dst_host_diff_srv_rate</th>\n",
       "      <th>dst_host_same_src_port_rate</th>\n",
       "      <th>dst_host_srv_diff_host_rate</th>\n",
       "      <th>dst_host_serror_rate</th>\n",
       "      <th>dst_host_srv_serror_rate</th>\n",
       "      <th>dst_host_rerror_rate</th>\n",
       "      <th>dst_host_srv_rerror_rate</th>\n",
       "      <th>label</th>\n",
       "      <th>difficulty</th>\n",
       "    </tr>\n",
       "  </thead>\n",
       "  <tbody>\n",
       "    <tr>\n",
       "      <th>0</th>\n",
       "      <td>0</td>\n",
       "      <td>tcp</td>\n",
       "      <td>ftp_data</td>\n",
       "      <td>SF</td>\n",
       "      <td>491</td>\n",
       "      <td>0</td>\n",
       "      <td>0</td>\n",
       "      <td>0</td>\n",
       "      <td>0</td>\n",
       "      <td>0</td>\n",
       "      <td>...</td>\n",
       "      <td>0.17</td>\n",
       "      <td>0.03</td>\n",
       "      <td>0.17</td>\n",
       "      <td>0.00</td>\n",
       "      <td>0.00</td>\n",
       "      <td>0.00</td>\n",
       "      <td>0.05</td>\n",
       "      <td>0.00</td>\n",
       "      <td>normal</td>\n",
       "      <td>20</td>\n",
       "    </tr>\n",
       "    <tr>\n",
       "      <th>1</th>\n",
       "      <td>0</td>\n",
       "      <td>udp</td>\n",
       "      <td>other</td>\n",
       "      <td>SF</td>\n",
       "      <td>146</td>\n",
       "      <td>0</td>\n",
       "      <td>0</td>\n",
       "      <td>0</td>\n",
       "      <td>0</td>\n",
       "      <td>0</td>\n",
       "      <td>...</td>\n",
       "      <td>0.00</td>\n",
       "      <td>0.60</td>\n",
       "      <td>0.88</td>\n",
       "      <td>0.00</td>\n",
       "      <td>0.00</td>\n",
       "      <td>0.00</td>\n",
       "      <td>0.00</td>\n",
       "      <td>0.00</td>\n",
       "      <td>normal</td>\n",
       "      <td>15</td>\n",
       "    </tr>\n",
       "    <tr>\n",
       "      <th>2</th>\n",
       "      <td>0</td>\n",
       "      <td>tcp</td>\n",
       "      <td>private</td>\n",
       "      <td>S0</td>\n",
       "      <td>0</td>\n",
       "      <td>0</td>\n",
       "      <td>0</td>\n",
       "      <td>0</td>\n",
       "      <td>0</td>\n",
       "      <td>0</td>\n",
       "      <td>...</td>\n",
       "      <td>0.10</td>\n",
       "      <td>0.05</td>\n",
       "      <td>0.00</td>\n",
       "      <td>0.00</td>\n",
       "      <td>1.00</td>\n",
       "      <td>1.00</td>\n",
       "      <td>0.00</td>\n",
       "      <td>0.00</td>\n",
       "      <td>neptune</td>\n",
       "      <td>19</td>\n",
       "    </tr>\n",
       "    <tr>\n",
       "      <th>3</th>\n",
       "      <td>0</td>\n",
       "      <td>tcp</td>\n",
       "      <td>http</td>\n",
       "      <td>SF</td>\n",
       "      <td>232</td>\n",
       "      <td>8153</td>\n",
       "      <td>0</td>\n",
       "      <td>0</td>\n",
       "      <td>0</td>\n",
       "      <td>0</td>\n",
       "      <td>...</td>\n",
       "      <td>1.00</td>\n",
       "      <td>0.00</td>\n",
       "      <td>0.03</td>\n",
       "      <td>0.04</td>\n",
       "      <td>0.03</td>\n",
       "      <td>0.01</td>\n",
       "      <td>0.00</td>\n",
       "      <td>0.01</td>\n",
       "      <td>normal</td>\n",
       "      <td>21</td>\n",
       "    </tr>\n",
       "    <tr>\n",
       "      <th>4</th>\n",
       "      <td>0</td>\n",
       "      <td>tcp</td>\n",
       "      <td>http</td>\n",
       "      <td>SF</td>\n",
       "      <td>199</td>\n",
       "      <td>420</td>\n",
       "      <td>0</td>\n",
       "      <td>0</td>\n",
       "      <td>0</td>\n",
       "      <td>0</td>\n",
       "      <td>...</td>\n",
       "      <td>1.00</td>\n",
       "      <td>0.00</td>\n",
       "      <td>0.00</td>\n",
       "      <td>0.00</td>\n",
       "      <td>0.00</td>\n",
       "      <td>0.00</td>\n",
       "      <td>0.00</td>\n",
       "      <td>0.00</td>\n",
       "      <td>normal</td>\n",
       "      <td>21</td>\n",
       "    </tr>\n",
       "  </tbody>\n",
       "</table>\n",
       "<p>5 rows × 43 columns</p>\n",
       "</div>"
      ],
      "text/plain": [
       "   duration protocol_type   service flag  src_bytes  dst_bytes  land  \\\n",
       "0         0           tcp  ftp_data   SF        491          0     0   \n",
       "1         0           udp     other   SF        146          0     0   \n",
       "2         0           tcp   private   S0          0          0     0   \n",
       "3         0           tcp      http   SF        232       8153     0   \n",
       "4         0           tcp      http   SF        199        420     0   \n",
       "\n",
       "   wrong_fragment  urgent  hot  ...  dst_host_same_srv_rate  \\\n",
       "0               0       0    0  ...                    0.17   \n",
       "1               0       0    0  ...                    0.00   \n",
       "2               0       0    0  ...                    0.10   \n",
       "3               0       0    0  ...                    1.00   \n",
       "4               0       0    0  ...                    1.00   \n",
       "\n",
       "   dst_host_diff_srv_rate  dst_host_same_src_port_rate  \\\n",
       "0                    0.03                         0.17   \n",
       "1                    0.60                         0.88   \n",
       "2                    0.05                         0.00   \n",
       "3                    0.00                         0.03   \n",
       "4                    0.00                         0.00   \n",
       "\n",
       "   dst_host_srv_diff_host_rate  dst_host_serror_rate  \\\n",
       "0                         0.00                  0.00   \n",
       "1                         0.00                  0.00   \n",
       "2                         0.00                  1.00   \n",
       "3                         0.04                  0.03   \n",
       "4                         0.00                  0.00   \n",
       "\n",
       "   dst_host_srv_serror_rate  dst_host_rerror_rate  dst_host_srv_rerror_rate  \\\n",
       "0                      0.00                  0.05                      0.00   \n",
       "1                      0.00                  0.00                      0.00   \n",
       "2                      1.00                  0.00                      0.00   \n",
       "3                      0.01                  0.00                      0.01   \n",
       "4                      0.00                  0.00                      0.00   \n",
       "\n",
       "     label  difficulty  \n",
       "0   normal          20  \n",
       "1   normal          15  \n",
       "2  neptune          19  \n",
       "3   normal          21  \n",
       "4   normal          21  \n",
       "\n",
       "[5 rows x 43 columns]"
      ]
     },
     "execution_count": 5,
     "metadata": {},
     "output_type": "execute_result"
    }
   ],
   "source": [
    "train_data.head()"
   ]
  },
  {
   "cell_type": "markdown",
   "metadata": {},
   "source": [
    "# Data Processing"
   ]
  },
  {
   "cell_type": "code",
   "execution_count": 6,
   "metadata": {},
   "outputs": [
    {
     "data": {
      "text/plain": [
       "(125973, 42)"
      ]
     },
     "execution_count": 6,
     "metadata": {},
     "output_type": "execute_result"
    }
   ],
   "source": [
    "# remove attribute 'difficulty_level'\n",
    "train_data.drop(['difficulty'],axis=1,inplace=True)\n",
    "train_data.shape"
   ]
  },
  {
   "cell_type": "code",
   "execution_count": 7,
   "metadata": {},
   "outputs": [
    {
     "data": {
      "text/plain": [
       "normal             67343\n",
       "neptune            41214\n",
       "satan               3633\n",
       "ipsweep             3599\n",
       "portsweep           2931\n",
       "smurf               2646\n",
       "nmap                1493\n",
       "back                 956\n",
       "teardrop             892\n",
       "warezclient          890\n",
       "pod                  201\n",
       "guess_passwd          53\n",
       "buffer_overflow       30\n",
       "warezmaster           20\n",
       "land                  18\n",
       "imap                  11\n",
       "rootkit               10\n",
       "loadmodule             9\n",
       "ftp_write              8\n",
       "multihop               7\n",
       "phf                    4\n",
       "perl                   3\n",
       "spy                    2\n",
       "Name: label, dtype: int64"
      ]
     },
     "execution_count": 7,
     "metadata": {},
     "output_type": "execute_result"
    }
   ],
   "source": [
    "# number of attack labels \n",
    "train_data['label'].value_counts()"
   ]
  },
  {
   "cell_type": "code",
   "execution_count": 8,
   "metadata": {},
   "outputs": [],
   "source": [
    "def change_label(df):\n",
    "  df.label.replace(['apache2','back','land','neptune','mailbomb','pod','processtable','smurf','teardrop','udpstorm','worm'],'Dos',inplace=True)\n",
    "  df.label.replace(['ftp_write','guess_passwd','httptunnel','imap','multihop','named','phf','sendmail','snmpgetattack','snmpguess','spy','warezclient','warezmaster','xlock','xsnoop'],'R2L',inplace=True)      \n",
    "  df.label.replace(['ipsweep','mscan','nmap','portsweep','saint','satan'],'Probe',inplace=True)\n",
    "  df.label.replace(['buffer_overflow','loadmodule','perl','ps','rootkit','sqlattack','xterm'],'U2R',inplace=True)m"
   ]
  },
  {
   "cell_type": "code",
   "execution_count": 9,
   "metadata": {},
   "outputs": [],
   "source": [
    "change_label(train_data)"
   ]
  },
  {
   "cell_type": "code",
   "execution_count": 10,
   "metadata": {},
   "outputs": [],
   "source": [
    "train_data = train_data[0:20000]"
   ]
  },
  {
   "cell_type": "code",
   "execution_count": 11,
   "metadata": {},
   "outputs": [
    {
     "data": {
      "text/plain": [
       "normal    10693\n",
       "Dos        7346\n",
       "Probe      1791\n",
       "R2L         159\n",
       "U2R          11\n",
       "Name: label, dtype: int64"
      ]
     },
     "execution_count": 11,
     "metadata": {},
     "output_type": "execute_result"
    }
   ],
   "source": [
    "# distribution of attack classes\n",
    "train_data.label.value_counts()"
   ]
  },
  {
   "cell_type": "code",
   "execution_count": 12,
   "metadata": {},
   "outputs": [],
   "source": [
    "data = train_data.copy()"
   ]
  },
  {
   "cell_type": "code",
   "execution_count": 13,
   "metadata": {},
   "outputs": [
    {
     "data": {
      "text/plain": [
       "array([4, 0, 2, 1, 3], dtype=int64)"
      ]
     },
     "execution_count": 13,
     "metadata": {},
     "output_type": "execute_result"
    }
   ],
   "source": [
    "# Import label encoder\n",
    "from sklearn import preprocessing\n",
    "\n",
    "# label_encoder object knows\n",
    "# how to understand word labels.\n",
    "label_encoder = preprocessing.LabelEncoder()\n",
    "\n",
    "# Encode labels in column 'species'.\n",
    "data['protocol_type']= label_encoder.fit_transform(data['protocol_type'])\n",
    "data['service']= label_encoder.fit_transform(data['service'])\n",
    "data['flag']= label_encoder.fit_transform(data['flag'])\n",
    "data['label']= label_encoder.fit_transform(data['label'])\n",
    "\n",
    "data['protocol_type'].unique()\n",
    "data['service'].unique()\n",
    "data['flag'].unique()\n",
    "data['label'].unique()"
   ]
  },
  {
   "cell_type": "code",
   "execution_count": 14,
   "metadata": {},
   "outputs": [
    {
     "data": {
      "text/html": [
       "<div>\n",
       "<style scoped>\n",
       "    .dataframe tbody tr th:only-of-type {\n",
       "        vertical-align: middle;\n",
       "    }\n",
       "\n",
       "    .dataframe tbody tr th {\n",
       "        vertical-align: top;\n",
       "    }\n",
       "\n",
       "    .dataframe thead th {\n",
       "        text-align: right;\n",
       "    }\n",
       "</style>\n",
       "<table border=\"1\" class=\"dataframe\">\n",
       "  <thead>\n",
       "    <tr style=\"text-align: right;\">\n",
       "      <th></th>\n",
       "      <th>duration</th>\n",
       "      <th>protocol_type</th>\n",
       "      <th>service</th>\n",
       "      <th>flag</th>\n",
       "      <th>src_bytes</th>\n",
       "      <th>dst_bytes</th>\n",
       "      <th>land</th>\n",
       "      <th>wrong_fragment</th>\n",
       "      <th>urgent</th>\n",
       "      <th>hot</th>\n",
       "      <th>...</th>\n",
       "      <th>dst_host_srv_count</th>\n",
       "      <th>dst_host_same_srv_rate</th>\n",
       "      <th>dst_host_diff_srv_rate</th>\n",
       "      <th>dst_host_same_src_port_rate</th>\n",
       "      <th>dst_host_srv_diff_host_rate</th>\n",
       "      <th>dst_host_serror_rate</th>\n",
       "      <th>dst_host_srv_serror_rate</th>\n",
       "      <th>dst_host_rerror_rate</th>\n",
       "      <th>dst_host_srv_rerror_rate</th>\n",
       "      <th>label</th>\n",
       "    </tr>\n",
       "  </thead>\n",
       "  <tbody>\n",
       "    <tr>\n",
       "      <th>0</th>\n",
       "      <td>0</td>\n",
       "      <td>1</td>\n",
       "      <td>19</td>\n",
       "      <td>9</td>\n",
       "      <td>491</td>\n",
       "      <td>0</td>\n",
       "      <td>0</td>\n",
       "      <td>0</td>\n",
       "      <td>0</td>\n",
       "      <td>0</td>\n",
       "      <td>...</td>\n",
       "      <td>25</td>\n",
       "      <td>0.17</td>\n",
       "      <td>0.03</td>\n",
       "      <td>0.17</td>\n",
       "      <td>0.00</td>\n",
       "      <td>0.00</td>\n",
       "      <td>0.00</td>\n",
       "      <td>0.05</td>\n",
       "      <td>0.00</td>\n",
       "      <td>4</td>\n",
       "    </tr>\n",
       "    <tr>\n",
       "      <th>1</th>\n",
       "      <td>0</td>\n",
       "      <td>2</td>\n",
       "      <td>41</td>\n",
       "      <td>9</td>\n",
       "      <td>146</td>\n",
       "      <td>0</td>\n",
       "      <td>0</td>\n",
       "      <td>0</td>\n",
       "      <td>0</td>\n",
       "      <td>0</td>\n",
       "      <td>...</td>\n",
       "      <td>1</td>\n",
       "      <td>0.00</td>\n",
       "      <td>0.60</td>\n",
       "      <td>0.88</td>\n",
       "      <td>0.00</td>\n",
       "      <td>0.00</td>\n",
       "      <td>0.00</td>\n",
       "      <td>0.00</td>\n",
       "      <td>0.00</td>\n",
       "      <td>4</td>\n",
       "    </tr>\n",
       "    <tr>\n",
       "      <th>2</th>\n",
       "      <td>0</td>\n",
       "      <td>1</td>\n",
       "      <td>46</td>\n",
       "      <td>5</td>\n",
       "      <td>0</td>\n",
       "      <td>0</td>\n",
       "      <td>0</td>\n",
       "      <td>0</td>\n",
       "      <td>0</td>\n",
       "      <td>0</td>\n",
       "      <td>...</td>\n",
       "      <td>26</td>\n",
       "      <td>0.10</td>\n",
       "      <td>0.05</td>\n",
       "      <td>0.00</td>\n",
       "      <td>0.00</td>\n",
       "      <td>1.00</td>\n",
       "      <td>1.00</td>\n",
       "      <td>0.00</td>\n",
       "      <td>0.00</td>\n",
       "      <td>0</td>\n",
       "    </tr>\n",
       "    <tr>\n",
       "      <th>3</th>\n",
       "      <td>0</td>\n",
       "      <td>1</td>\n",
       "      <td>22</td>\n",
       "      <td>9</td>\n",
       "      <td>232</td>\n",
       "      <td>8153</td>\n",
       "      <td>0</td>\n",
       "      <td>0</td>\n",
       "      <td>0</td>\n",
       "      <td>0</td>\n",
       "      <td>...</td>\n",
       "      <td>255</td>\n",
       "      <td>1.00</td>\n",
       "      <td>0.00</td>\n",
       "      <td>0.03</td>\n",
       "      <td>0.04</td>\n",
       "      <td>0.03</td>\n",
       "      <td>0.01</td>\n",
       "      <td>0.00</td>\n",
       "      <td>0.01</td>\n",
       "      <td>4</td>\n",
       "    </tr>\n",
       "    <tr>\n",
       "      <th>4</th>\n",
       "      <td>0</td>\n",
       "      <td>1</td>\n",
       "      <td>22</td>\n",
       "      <td>9</td>\n",
       "      <td>199</td>\n",
       "      <td>420</td>\n",
       "      <td>0</td>\n",
       "      <td>0</td>\n",
       "      <td>0</td>\n",
       "      <td>0</td>\n",
       "      <td>...</td>\n",
       "      <td>255</td>\n",
       "      <td>1.00</td>\n",
       "      <td>0.00</td>\n",
       "      <td>0.00</td>\n",
       "      <td>0.00</td>\n",
       "      <td>0.00</td>\n",
       "      <td>0.00</td>\n",
       "      <td>0.00</td>\n",
       "      <td>0.00</td>\n",
       "      <td>4</td>\n",
       "    </tr>\n",
       "  </tbody>\n",
       "</table>\n",
       "<p>5 rows × 42 columns</p>\n",
       "</div>"
      ],
      "text/plain": [
       "   duration  protocol_type  service  flag  src_bytes  dst_bytes  land  \\\n",
       "0         0              1       19     9        491          0     0   \n",
       "1         0              2       41     9        146          0     0   \n",
       "2         0              1       46     5          0          0     0   \n",
       "3         0              1       22     9        232       8153     0   \n",
       "4         0              1       22     9        199        420     0   \n",
       "\n",
       "   wrong_fragment  urgent  hot  ...  dst_host_srv_count  \\\n",
       "0               0       0    0  ...                  25   \n",
       "1               0       0    0  ...                   1   \n",
       "2               0       0    0  ...                  26   \n",
       "3               0       0    0  ...                 255   \n",
       "4               0       0    0  ...                 255   \n",
       "\n",
       "   dst_host_same_srv_rate  dst_host_diff_srv_rate  \\\n",
       "0                    0.17                    0.03   \n",
       "1                    0.00                    0.60   \n",
       "2                    0.10                    0.05   \n",
       "3                    1.00                    0.00   \n",
       "4                    1.00                    0.00   \n",
       "\n",
       "   dst_host_same_src_port_rate  dst_host_srv_diff_host_rate  \\\n",
       "0                         0.17                         0.00   \n",
       "1                         0.88                         0.00   \n",
       "2                         0.00                         0.00   \n",
       "3                         0.03                         0.04   \n",
       "4                         0.00                         0.00   \n",
       "\n",
       "   dst_host_serror_rate  dst_host_srv_serror_rate  dst_host_rerror_rate  \\\n",
       "0                  0.00                      0.00                  0.05   \n",
       "1                  0.00                      0.00                  0.00   \n",
       "2                  1.00                      1.00                  0.00   \n",
       "3                  0.03                      0.01                  0.00   \n",
       "4                  0.00                      0.00                  0.00   \n",
       "\n",
       "   dst_host_srv_rerror_rate  label  \n",
       "0                      0.00      4  \n",
       "1                      0.00      4  \n",
       "2                      0.00      0  \n",
       "3                      0.01      4  \n",
       "4                      0.00      4  \n",
       "\n",
       "[5 rows x 42 columns]"
      ]
     },
     "execution_count": 14,
     "metadata": {},
     "output_type": "execute_result"
    }
   ],
   "source": [
    "data.head()"
   ]
  },
  {
   "cell_type": "code",
   "execution_count": 15,
   "metadata": {},
   "outputs": [],
   "source": [
    "X = data.drop([\"label\"],axis =1)\n",
    "y = data[\"label\"]"
   ]
  },
  {
   "cell_type": "markdown",
   "metadata": {},
   "source": [
    "# Feature Selection"
   ]
  },
  {
   "cell_type": "code",
   "execution_count": 16,
   "metadata": {},
   "outputs": [],
   "source": [
    "from sklearn.feature_selection import SelectKBest, SelectPercentile, mutual_info_classif"
   ]
  },
  {
   "cell_type": "code",
   "execution_count": 17,
   "metadata": {},
   "outputs": [
    {
     "data": {
      "text/plain": [
       "(20000, 14)"
      ]
     },
     "execution_count": 17,
     "metadata": {},
     "output_type": "execute_result"
    }
   ],
   "source": [
    "selector = SelectPercentile(mutual_info_classif, percentile=35)\n",
    "X_reduced = selector.fit_transform(X, y)\n",
    "X_reduced.shape"
   ]
  },
  {
   "cell_type": "code",
   "execution_count": 18,
   "metadata": {},
   "outputs": [
    {
     "data": {
      "text/plain": [
       "['service',\n",
       " 'flag',\n",
       " 'src_bytes',\n",
       " 'dst_bytes',\n",
       " 'count',\n",
       " 'serror_rate',\n",
       " 'srv_serror_rate',\n",
       " 'same_srv_rate',\n",
       " 'diff_srv_rate',\n",
       " 'dst_host_srv_count',\n",
       " 'dst_host_same_srv_rate',\n",
       " 'dst_host_diff_srv_rate',\n",
       " 'dst_host_serror_rate',\n",
       " 'dst_host_srv_serror_rate']"
      ]
     },
     "execution_count": 18,
     "metadata": {},
     "output_type": "execute_result"
    }
   ],
   "source": [
    "cols = selector.get_support(indices=True)\n",
    "selected_columns = X.iloc[:,cols].columns.tolist()\n",
    "selected_columns"
   ]
  },
  {
   "cell_type": "code",
   "execution_count": 19,
   "metadata": {},
   "outputs": [],
   "source": [
    "df = data[['service',\n",
    " 'flag',\n",
    " 'src_bytes',\n",
    " 'dst_bytes',\n",
    " 'count',\n",
    " 'serror_rate',\n",
    " 'srv_serror_rate',\n",
    " 'same_srv_rate',\n",
    " 'diff_srv_rate',\n",
    " 'dst_host_srv_count',\n",
    " 'dst_host_same_srv_rate',\n",
    " 'dst_host_diff_srv_rate',\n",
    " 'dst_host_serror_rate',\n",
    " 'dst_host_srv_serror_rate',\n",
    "              'label']]\n",
    "df.to_csv('processed.csv')"
   ]
  },
  {
   "cell_type": "markdown",
   "metadata": {},
   "source": [
    "# Split Dataset"
   ]
  },
  {
   "cell_type": "code",
   "execution_count": 20,
   "metadata": {},
   "outputs": [
    {
     "data": {
      "text/plain": [
       "((16000, 14), (16000,), (4000, 14), (4000,))"
      ]
     },
     "execution_count": 20,
     "metadata": {},
     "output_type": "execute_result"
    }
   ],
   "source": [
    "from sklearn.model_selection import train_test_split\n",
    "\n",
    "X_train, X_test, y_train, y_test = train_test_split(X_reduced, y, test_size = 0.2)\n",
    "X_train.shape, y_train.shape, X_test.shape, y_test.shape"
   ]
  },
  {
   "cell_type": "code",
   "execution_count": 38,
   "metadata": {},
   "outputs": [],
   "source": [
    "ML_Model = []\n",
    "accuracy = []\n",
    "f1score = []\n",
    "recall = []\n",
    "precision = []\n",
    "\n",
    "\n",
    "#function to call for storing the results\n",
    "def storeResults(model, a,b,c,d):\n",
    "    ML_Model.append(model)\n",
    "    accuracy.append(round(a, 3))\n",
    "    precision.append(round(b, 3))\n",
    "    recall.append(round(c, 3))    \n",
    "    f1score.append(round(d, 3))"
   ]
  },
  {
   "cell_type": "code",
   "execution_count": 21,
   "metadata": {},
   "outputs": [],
   "source": [
    "from sklearn.metrics import accuracy_score, precision_score, recall_score, f1_score, confusion_matrix"
   ]
  },
  {
   "cell_type": "markdown",
   "metadata": {},
   "source": [
    "# SVM"
   ]
  },
  {
   "cell_type": "code",
   "execution_count": 43,
   "metadata": {},
   "outputs": [
    {
     "name": "stdout",
     "output_type": "stream",
     "text": [
      "Fitting 10 folds for each of 4 candidates, totalling 40 fits\n",
      "[CV 1/10] END .......C=0.1, gamma=1, kernel=rbf;, score=0.564 total time= 2.5min\n",
      "[CV 2/10] END .......C=0.1, gamma=1, kernel=rbf;, score=0.562 total time= 2.7min\n",
      "[CV 3/10] END .......C=0.1, gamma=1, kernel=rbf;, score=0.563 total time= 2.5min\n",
      "[CV 4/10] END .......C=0.1, gamma=1, kernel=rbf;, score=0.564 total time= 2.5min\n",
      "[CV 5/10] END .......C=0.1, gamma=1, kernel=rbf;, score=0.562 total time= 2.5min\n",
      "[CV 6/10] END .......C=0.1, gamma=1, kernel=rbf;, score=0.560 total time= 2.5min\n",
      "[CV 7/10] END .......C=0.1, gamma=1, kernel=rbf;, score=0.558 total time= 2.5min\n",
      "[CV 8/10] END .......C=0.1, gamma=1, kernel=rbf;, score=0.556 total time= 2.5min\n",
      "[CV 9/10] END .......C=0.1, gamma=1, kernel=rbf;, score=0.565 total time= 2.5min\n",
      "[CV 10/10] END ......C=0.1, gamma=1, kernel=rbf;, score=0.561 total time= 2.7min\n",
      "[CV 1/10] END .....C=0.1, gamma=0.1, kernel=rbf;, score=0.621 total time= 2.5min\n",
      "[CV 2/10] END .....C=0.1, gamma=0.1, kernel=rbf;, score=0.619 total time= 2.4min\n",
      "[CV 3/10] END .....C=0.1, gamma=0.1, kernel=rbf;, score=0.609 total time= 2.3min\n",
      "[CV 4/10] END .....C=0.1, gamma=0.1, kernel=rbf;, score=0.625 total time= 2.5min\n",
      "[CV 5/10] END .....C=0.1, gamma=0.1, kernel=rbf;, score=0.624 total time= 2.4min\n",
      "[CV 6/10] END .....C=0.1, gamma=0.1, kernel=rbf;, score=0.613 total time= 2.5min\n",
      "[CV 7/10] END .....C=0.1, gamma=0.1, kernel=rbf;, score=0.616 total time= 2.4min\n",
      "[CV 8/10] END .....C=0.1, gamma=0.1, kernel=rbf;, score=0.608 total time= 2.4min\n",
      "[CV 9/10] END .....C=0.1, gamma=0.1, kernel=rbf;, score=0.619 total time= 2.4min\n",
      "[CV 10/10] END ....C=0.1, gamma=0.1, kernel=rbf;, score=0.621 total time= 2.5min\n",
      "[CV 1/10] END .........C=1, gamma=1, kernel=rbf;, score=0.701 total time= 3.3min\n",
      "[CV 2/10] END .........C=1, gamma=1, kernel=rbf;, score=0.708 total time= 3.4min\n",
      "[CV 3/10] END .........C=1, gamma=1, kernel=rbf;, score=0.693 total time= 3.3min\n",
      "[CV 4/10] END .........C=1, gamma=1, kernel=rbf;, score=0.708 total time= 3.3min\n",
      "[CV 5/10] END .........C=1, gamma=1, kernel=rbf;, score=0.714 total time= 3.3min\n",
      "[CV 6/10] END .........C=1, gamma=1, kernel=rbf;, score=0.691 total time= 3.3min\n",
      "[CV 7/10] END .........C=1, gamma=1, kernel=rbf;, score=0.698 total time= 3.3min\n",
      "[CV 8/10] END .........C=1, gamma=1, kernel=rbf;, score=0.692 total time= 3.3min\n",
      "[CV 9/10] END .........C=1, gamma=1, kernel=rbf;, score=0.693 total time= 3.4min\n",
      "[CV 10/10] END ........C=1, gamma=1, kernel=rbf;, score=0.701 total time= 3.4min\n",
      "[CV 1/10] END .......C=1, gamma=0.1, kernel=rbf;, score=0.896 total time= 3.2min\n",
      "[CV 2/10] END .......C=1, gamma=0.1, kernel=rbf;, score=0.925 total time= 3.2min\n",
      "[CV 3/10] END .......C=1, gamma=0.1, kernel=rbf;, score=0.902 total time= 3.3min\n",
      "[CV 4/10] END .......C=1, gamma=0.1, kernel=rbf;, score=0.914 total time= 3.5min\n",
      "[CV 5/10] END .......C=1, gamma=0.1, kernel=rbf;, score=0.912 total time= 3.2min\n",
      "[CV 6/10] END .......C=1, gamma=0.1, kernel=rbf;, score=0.897 total time= 3.3min\n",
      "[CV 7/10] END .......C=1, gamma=0.1, kernel=rbf;, score=0.912 total time= 3.2min\n",
      "[CV 8/10] END .......C=1, gamma=0.1, kernel=rbf;, score=0.909 total time= 3.4min\n",
      "[CV 9/10] END .......C=1, gamma=0.1, kernel=rbf;, score=0.901 total time= 3.2min\n",
      "[CV 10/10] END ......C=1, gamma=0.1, kernel=rbf;, score=0.912 total time= 3.4min\n"
     ]
    },
    {
     "data": {
      "text/plain": [
       "GridSearchCV(cv=StratifiedKFold(n_splits=10, random_state=None, shuffle=False),\n",
       "             estimator=SVC(probability=True),\n",
       "             param_grid={'C': [0.1, 1], 'gamma': [1, 0.1], 'kernel': ['rbf']},\n",
       "             verbose=3)"
      ]
     },
     "execution_count": 43,
     "metadata": {},
     "output_type": "execute_result"
    }
   ],
   "source": [
    "from sklearn.model_selection import StratifiedKFold, GridSearchCV\n",
    "from sklearn.svm import SVC\n",
    "\n",
    "# defining parameter range\n",
    "param_grid = {'C': [0.1, 1], \n",
    "              'gamma': [1, 0.1],\n",
    "              'kernel': ['rbf']} \n",
    "\n",
    "svm = GridSearchCV(SVC(probability=True), param_grid, refit = True, verbose = 3, cv=StratifiedKFold(10))\n",
    "svm.fit(X_train, y_train)"
   ]
  },
  {
   "cell_type": "code",
   "execution_count": 44,
   "metadata": {},
   "outputs": [],
   "source": [
    "y_pred = svm.predict(X_test)\n",
    "\n",
    "svc_acc = accuracy_score(y_pred, y_test)\n",
    "svc_prec = precision_score(y_pred, y_test,average='weighted')\n",
    "svc_rec = recall_score(y_pred, y_test,average='weighted')\n",
    "svc_f1 = f1_score(y_pred, y_test,average='weighted')"
   ]
  },
  {
   "cell_type": "code",
   "execution_count": 45,
   "metadata": {},
   "outputs": [],
   "source": [
    "storeResults('SVM',svc_acc,svc_prec,svc_rec,svc_f1)"
   ]
  },
  {
   "cell_type": "markdown",
   "metadata": {},
   "source": [
    "# Stacking Classifier"
   ]
  },
  {
   "cell_type": "code",
   "execution_count": 46,
   "metadata": {},
   "outputs": [],
   "source": [
    "from sklearn.ensemble import RandomForestClassifier\n",
    "from sklearn.neural_network import MLPClassifier\n",
    "from lightgbm import LGBMClassifier\n",
    "from sklearn.ensemble import StackingClassifier\n",
    "\n",
    "estimators = [('rf', RandomForestClassifier(n_estimators=10)),('mlp', MLPClassifier(random_state=1, max_iter=30))]\n",
    "\n",
    "clf = StackingClassifier(estimators=estimators, final_estimator=LGBMClassifier(n_estimators=10))\n",
    "\n",
    "\n",
    "clf.fit(X_train,y_train)\n",
    "\n",
    "y_pred = clf.predict(X_test)\n",
    "\n",
    "stac_acc = accuracy_score(y_pred, y_test)\n",
    "stac_prec = precision_score(y_pred, y_test,average='weighted')\n",
    "stac_rec = recall_score(y_pred, y_test,average='weighted')\n",
    "stac_f1 = f1_score(y_pred, y_test,average='weighted')"
   ]
  },
  {
   "cell_type": "code",
   "execution_count": 93,
   "metadata": {},
   "outputs": [],
   "source": [
    "storeResults('Stacking Classifier',stac_acc,stac_prec,stac_rec,stac_f1)"
   ]
  },
  {
   "cell_type": "markdown",
   "metadata": {},
   "source": [
    "# Voting Classifier"
   ]
  },
  {
   "cell_type": "code",
   "execution_count": 22,
   "metadata": {},
   "outputs": [],
   "source": [
    "from sklearn.ensemble import RandomForestClassifier, VotingClassifier, AdaBoostClassifier\n",
    "clf1 = AdaBoostClassifier(n_estimators=100, random_state=0)\n",
    "clf2 = RandomForestClassifier(n_estimators=50, random_state=1)\n",
    "\n",
    "eclf1 = VotingClassifier(estimators=[('ad', clf1), ('rf', clf2)], voting='soft')\n",
    "eclf1.fit(X_train, y_train)\n",
    "y_pred = eclf1.predict(X_test)\n",
    "\n",
    "vot_acc = accuracy_score(y_pred, y_test)\n",
    "vot_prec = precision_score(y_pred, y_test,average='weighted')\n",
    "vot_rec = recall_score(y_pred, y_test,average='weighted')\n",
    "vot_f1 = f1_score(y_pred, y_test,average='weighted')\n",
    "\n"
   ]
  },
  {
   "cell_type": "code",
   "execution_count": 94,
   "metadata": {},
   "outputs": [],
   "source": [
    "storeResults('Voting Classifier',vot_acc,vot_prec,vot_rec,vot_f1)"
   ]
  },
  {
   "cell_type": "markdown",
   "metadata": {},
   "source": [
    "# PCA - SVM"
   ]
  },
  {
   "cell_type": "code",
   "execution_count": 50,
   "metadata": {},
   "outputs": [],
   "source": [
    "from sklearn.decomposition import PCA\n",
    "\n",
    "X_new = PCA(n_components=10).fit_transform(X)"
   ]
  },
  {
   "cell_type": "code",
   "execution_count": 51,
   "metadata": {},
   "outputs": [],
   "source": [
    "X_train, X_test, y_train, y_test = train_test_split(X_new, y, test_size = 0.2)"
   ]
  },
  {
   "cell_type": "code",
   "execution_count": 52,
   "metadata": {},
   "outputs": [
    {
     "name": "stdout",
     "output_type": "stream",
     "text": [
      "Fitting 10 folds for each of 4 candidates, totalling 40 fits\n",
      "[CV 1/10] END .......C=0.1, gamma=1, kernel=rbf;, score=0.543 total time= 2.9min\n",
      "[CV 2/10] END .......C=0.1, gamma=1, kernel=rbf;, score=0.538 total time= 2.8min\n",
      "[CV 3/10] END .......C=0.1, gamma=1, kernel=rbf;, score=0.541 total time= 2.7min\n",
      "[CV 4/10] END .......C=0.1, gamma=1, kernel=rbf;, score=0.542 total time= 2.9min\n",
      "[CV 5/10] END .......C=0.1, gamma=1, kernel=rbf;, score=0.540 total time= 2.8min\n",
      "[CV 6/10] END .......C=0.1, gamma=1, kernel=rbf;, score=0.541 total time= 2.7min\n",
      "[CV 7/10] END .......C=0.1, gamma=1, kernel=rbf;, score=0.541 total time= 2.8min\n",
      "[CV 8/10] END .......C=0.1, gamma=1, kernel=rbf;, score=0.541 total time= 2.7min\n",
      "[CV 9/10] END .......C=0.1, gamma=1, kernel=rbf;, score=0.539 total time= 2.7min\n",
      "[CV 10/10] END ......C=0.1, gamma=1, kernel=rbf;, score=0.545 total time= 2.7min\n",
      "[CV 1/10] END .....C=0.1, gamma=0.1, kernel=rbf;, score=0.547 total time= 2.6min\n",
      "[CV 2/10] END .....C=0.1, gamma=0.1, kernel=rbf;, score=0.542 total time= 2.5min\n",
      "[CV 3/10] END .....C=0.1, gamma=0.1, kernel=rbf;, score=0.543 total time= 2.5min\n",
      "[CV 4/10] END .....C=0.1, gamma=0.1, kernel=rbf;, score=0.546 total time= 2.5min\n",
      "[CV 5/10] END .....C=0.1, gamma=0.1, kernel=rbf;, score=0.544 total time= 2.5min\n",
      "[CV 6/10] END .....C=0.1, gamma=0.1, kernel=rbf;, score=0.549 total time= 2.5min\n",
      "[CV 7/10] END .....C=0.1, gamma=0.1, kernel=rbf;, score=0.546 total time= 2.5min\n",
      "[CV 8/10] END .....C=0.1, gamma=0.1, kernel=rbf;, score=0.544 total time= 2.5min\n",
      "[CV 9/10] END .....C=0.1, gamma=0.1, kernel=rbf;, score=0.544 total time= 2.4min\n",
      "[CV 10/10] END ....C=0.1, gamma=0.1, kernel=rbf;, score=0.547 total time= 2.5min\n",
      "[CV 1/10] END .........C=1, gamma=1, kernel=rbf;, score=0.586 total time= 3.4min\n",
      "[CV 2/10] END .........C=1, gamma=1, kernel=rbf;, score=0.579 total time= 3.4min\n",
      "[CV 3/10] END .........C=1, gamma=1, kernel=rbf;, score=0.576 total time= 3.4min\n",
      "[CV 4/10] END .........C=1, gamma=1, kernel=rbf;, score=0.585 total time= 3.4min\n",
      "[CV 5/10] END .........C=1, gamma=1, kernel=rbf;, score=0.581 total time= 3.3min\n",
      "[CV 6/10] END .........C=1, gamma=1, kernel=rbf;, score=0.581 total time= 3.3min\n",
      "[CV 7/10] END .........C=1, gamma=1, kernel=rbf;, score=0.587 total time= 3.3min\n",
      "[CV 8/10] END .........C=1, gamma=1, kernel=rbf;, score=0.573 total time= 3.3min\n",
      "[CV 9/10] END .........C=1, gamma=1, kernel=rbf;, score=0.578 total time= 3.3min\n",
      "[CV 10/10] END ........C=1, gamma=1, kernel=rbf;, score=0.593 total time= 3.3min\n",
      "[CV 1/10] END .......C=1, gamma=0.1, kernel=rbf;, score=0.848 total time= 3.3min\n",
      "[CV 2/10] END .......C=1, gamma=0.1, kernel=rbf;, score=0.836 total time= 3.4min\n",
      "[CV 3/10] END .......C=1, gamma=0.1, kernel=rbf;, score=0.826 total time= 3.4min\n",
      "[CV 4/10] END .......C=1, gamma=0.1, kernel=rbf;, score=0.841 total time= 3.3min\n",
      "[CV 5/10] END .......C=1, gamma=0.1, kernel=rbf;, score=0.833 total time= 3.3min\n",
      "[CV 6/10] END .......C=1, gamma=0.1, kernel=rbf;, score=0.826 total time= 3.4min\n",
      "[CV 7/10] END .......C=1, gamma=0.1, kernel=rbf;, score=0.841 total time= 3.3min\n",
      "[CV 8/10] END .......C=1, gamma=0.1, kernel=rbf;, score=0.840 total time= 3.4min\n",
      "[CV 9/10] END .......C=1, gamma=0.1, kernel=rbf;, score=0.839 total time= 3.4min\n",
      "[CV 10/10] END ......C=1, gamma=0.1, kernel=rbf;, score=0.831 total time= 3.3min\n"
     ]
    }
   ],
   "source": [
    "svm1 = GridSearchCV(SVC(probability=True), param_grid, refit = True, verbose = 3, cv=StratifiedKFold(10))\n",
    "svm1.fit(X_train, y_train)\n",
    "\n",
    "y_pred = svm1.predict(X_test)\n",
    "\n",
    "svc1_acc = accuracy_score(y_pred, y_test)\n",
    "svc1_prec = precision_score(y_pred, y_test,average='weighted')\n",
    "svc1_rec = recall_score(y_pred, y_test,average='weighted')\n",
    "svc1_f1 = f1_score(y_pred, y_test,average='weighted')"
   ]
  },
  {
   "cell_type": "code",
   "execution_count": 53,
   "metadata": {},
   "outputs": [],
   "source": [
    "storeResults('SVM-PCA',svc1_acc,svc1_prec,svc1_rec,svc1_f1)"
   ]
  },
  {
   "cell_type": "markdown",
   "metadata": {},
   "source": [
    "# Deep AutoEncoder SVM"
   ]
  },
  {
   "cell_type": "code",
   "execution_count": 54,
   "metadata": {},
   "outputs": [],
   "source": [
    "X_train, X_test, y_train, y_test = train_test_split(X_new, y, test_size = 0.2)\n",
    "\n",
    "import matplotlib.pyplot as plt\n",
    "n_train = np.array(X_train)\n",
    "n_test = np.array(X_test)"
   ]
  },
  {
   "cell_type": "code",
   "execution_count": 55,
   "metadata": {},
   "outputs": [
    {
     "name": "stdout",
     "output_type": "stream",
     "text": [
      "10\n"
     ]
    }
   ],
   "source": [
    "from keras.layers import Input, Dense\n",
    "from keras.models import Model\n",
    "import tensorflow as tf\n",
    "\n",
    "input_dim = n_train.shape[1]\n",
    "feature_dim = [25, 20, 15, 10]\n",
    "print(input_dim)\n",
    "inputs = Input(shape=(input_dim,))\n",
    "encoded = inputs\n",
    "encoded = Dense(feature_dim[0], kernel_initializer=\"uniform\")(encoded)\n",
    "encoded = Dense(feature_dim[1], kernel_initializer=\"uniform\")(encoded)\n",
    "encoded = Dense(feature_dim[2], kernel_initializer=\"uniform\")(encoded)\n",
    "encoded = Dense(feature_dim[3], kernel_initializer=\"uniform\")(encoded)\n",
    "\n",
    "decoded = encoded\n",
    "decoded = Dense(feature_dim[2], kernel_initializer=\"uniform\")(decoded)\n",
    "decoded = Dense(feature_dim[1], kernel_initializer=\"uniform\")(decoded)\n",
    "decoded = Dense(feature_dim[0], kernel_initializer=\"uniform\")(decoded)\n",
    "decoded = Dense(input_dim, kernel_initializer=\"uniform\")(decoded)"
   ]
  },
  {
   "cell_type": "code",
   "execution_count": 56,
   "metadata": {},
   "outputs": [],
   "source": [
    "dnn = Model(inputs, decoded)\n",
    "dnn.compile(optimizer='adadelta', loss='mse')\n",
    "\n",
    "dnn.fit(n_train, n_train,\n",
    "                verbose=0,\n",
    "                epochs=150,\n",
    "                batch_size=100,\n",
    "                shuffle=True,\n",
    "                validation_data=(n_test, n_test))\n",
    "\n",
    "predict_vals = dnn.predict(n_train)"
   ]
  },
  {
   "cell_type": "code",
   "execution_count": 62,
   "metadata": {},
   "outputs": [],
   "source": [
    "from keras.models import Sequential\n",
    "\n",
    "featuremodel = Sequential()\n",
    "featuremodel.add(Dense(feature_dim[0], input_shape=(input_dim,), weights=dnn.layers[1].get_weights()))\n",
    "featuremodel.add(Dense(feature_dim[1], weights=dnn.layers[2].get_weights()))\n",
    "featuremodel.add(Dense(feature_dim[2], weights=dnn.layers[3].get_weights()))\n",
    "featuremodel.add(Dense(feature_dim[3], weights=dnn.layers[4].get_weights()))\n",
    "\n",
    "featuremodel.compile(optimizer='adadelta', loss='mse')"
   ]
  },
  {
   "cell_type": "code",
   "execution_count": 83,
   "metadata": {},
   "outputs": [
    {
     "name": "stdout",
     "output_type": "stream",
     "text": [
      "Accuracy d-dnn-svm: 53.150%\n"
     ]
    }
   ],
   "source": [
    "# classic svm with deep autoencoder\n",
    "from sklearn.svm import LinearSVC\n",
    "deepmodel = LinearSVC(penalty=\"l1\", loss=\"squared_hinge\", dual=False)\n",
    "deepmodel.fit(featuremodel.predict(n_train),y_train)\n",
    "deepprediction=deepmodel.predict(featuremodel.predict(n_test))\n",
    "print(\"Accuracy d-dnn-svm: %s\" % \"{0:.3%}\".format(accuracy_score(deepprediction, y_test)))"
   ]
  },
  {
   "cell_type": "code",
   "execution_count": 66,
   "metadata": {},
   "outputs": [],
   "source": [
    "dl_acc = accuracy_score(deepprediction, y_test)\n",
    "dl_prec = precision_score(deepprediction, y_test,average='weighted')\n",
    "dl_rec = recall_score(deepprediction, y_test,average='weighted')\n",
    "dl_f1 = f1_score(deepprediction, y_test,average='weighted')\n",
    "\n",
    "storeResults('Deep Autoencoder - SVM L1',dl_acc,dl_prec,dl_rec,dl_f1)"
   ]
  },
  {
   "cell_type": "markdown",
   "metadata": {},
   "source": [
    "# DAE SVM L2"
   ]
  },
  {
   "cell_type": "code",
   "execution_count": 84,
   "metadata": {},
   "outputs": [],
   "source": [
    "deepmodel = LinearSVC(penalty=\"l2\", loss=\"squared_hinge\", dual=True)\n",
    "deepmodel.fit(featuremodel.predict(n_train),y_train)\n",
    "deepprediction=deepmodel.predict(featuremodel.predict(n_test))"
   ]
  },
  {
   "cell_type": "code",
   "execution_count": 85,
   "metadata": {},
   "outputs": [],
   "source": [
    "dl_acc = accuracy_score(deepprediction, y_test)\n",
    "dl_prec = precision_score(deepprediction, y_test,average='weighted')\n",
    "dl_rec = recall_score(deepprediction, y_test,average='weighted')\n",
    "dl_f1 = f1_score(deepprediction, y_test,average='weighted')\n",
    "\n",
    "storeResults('Deep Autoencoder - SVM L2',dl_acc,dl_prec,dl_rec,dl_f1)"
   ]
  },
  {
   "cell_type": "markdown",
   "metadata": {},
   "source": [
    "# Comparison"
   ]
  },
  {
   "cell_type": "code",
   "execution_count": 95,
   "metadata": {},
   "outputs": [],
   "source": [
    "#creating dataframe\n",
    "result = pd.DataFrame({ 'ML Model' : ML_Model,\n",
    "                        'Accuracy' : accuracy,\n",
    "                        'Precision': precision,\n",
    "                        'Recall'   : recall,\n",
    "                        'F1-Score': f1score\n",
    "                      })"
   ]
  },
  {
   "cell_type": "code",
   "execution_count": 96,
   "metadata": {},
   "outputs": [
    {
     "data": {
      "text/html": [
       "<div>\n",
       "<style scoped>\n",
       "    .dataframe tbody tr th:only-of-type {\n",
       "        vertical-align: middle;\n",
       "    }\n",
       "\n",
       "    .dataframe tbody tr th {\n",
       "        vertical-align: top;\n",
       "    }\n",
       "\n",
       "    .dataframe thead th {\n",
       "        text-align: right;\n",
       "    }\n",
       "</style>\n",
       "<table border=\"1\" class=\"dataframe\">\n",
       "  <thead>\n",
       "    <tr style=\"text-align: right;\">\n",
       "      <th></th>\n",
       "      <th>ML Model</th>\n",
       "      <th>Accuracy</th>\n",
       "      <th>Precision</th>\n",
       "      <th>Recall</th>\n",
       "      <th>F1-Score</th>\n",
       "    </tr>\n",
       "  </thead>\n",
       "  <tbody>\n",
       "    <tr>\n",
       "      <th>0</th>\n",
       "      <td>SVM</td>\n",
       "      <td>0.921</td>\n",
       "      <td>0.934</td>\n",
       "      <td>0.921</td>\n",
       "      <td>0.923</td>\n",
       "    </tr>\n",
       "    <tr>\n",
       "      <th>1</th>\n",
       "      <td>SVM-PCA</td>\n",
       "      <td>0.842</td>\n",
       "      <td>0.900</td>\n",
       "      <td>0.842</td>\n",
       "      <td>0.852</td>\n",
       "    </tr>\n",
       "    <tr>\n",
       "      <th>2</th>\n",
       "      <td>Deep Autoencoder - SVM</td>\n",
       "      <td>0.861</td>\n",
       "      <td>0.941</td>\n",
       "      <td>0.861</td>\n",
       "      <td>0.895</td>\n",
       "    </tr>\n",
       "    <tr>\n",
       "      <th>3</th>\n",
       "      <td>Deep Autoencoder - SVM L2</td>\n",
       "      <td>0.805</td>\n",
       "      <td>0.879</td>\n",
       "      <td>0.805</td>\n",
       "      <td>0.835</td>\n",
       "    </tr>\n",
       "    <tr>\n",
       "      <th>4</th>\n",
       "      <td>Stacking Classifier</td>\n",
       "      <td>0.995</td>\n",
       "      <td>0.995</td>\n",
       "      <td>0.995</td>\n",
       "      <td>0.995</td>\n",
       "    </tr>\n",
       "    <tr>\n",
       "      <th>5</th>\n",
       "      <td>Voting Classifier</td>\n",
       "      <td>0.998</td>\n",
       "      <td>0.998</td>\n",
       "      <td>0.998</td>\n",
       "      <td>0.998</td>\n",
       "    </tr>\n",
       "  </tbody>\n",
       "</table>\n",
       "</div>"
      ],
      "text/plain": [
       "                    ML Model  Accuracy  Precision  Recall  F1-Score\n",
       "0                        SVM     0.921      0.934   0.921     0.923\n",
       "1                    SVM-PCA     0.842      0.900   0.842     0.852\n",
       "2     Deep Autoencoder - SVM     0.861      0.941   0.861     0.895\n",
       "3  Deep Autoencoder - SVM L2     0.805      0.879   0.805     0.835\n",
       "4        Stacking Classifier     0.995      0.995   0.995     0.995\n",
       "5          Voting Classifier     0.998      0.998   0.998     0.998"
      ]
     },
     "execution_count": 96,
     "metadata": {},
     "output_type": "execute_result"
    }
   ],
   "source": [
    "result"
   ]
  },
  {
   "cell_type": "markdown",
   "metadata": {},
   "source": [
    "# Modelling"
   ]
  },
  {
   "cell_type": "code",
   "execution_count": 24,
   "metadata": {},
   "outputs": [
    {
     "data": {
      "text/plain": [
       "['model.sav']"
      ]
     },
     "execution_count": 24,
     "metadata": {},
     "output_type": "execute_result"
    }
   ],
   "source": [
    "import joblib\n",
    "filename = 'model.sav'\n",
    "joblib.dump(eclf1, filename)"
   ]
  },
  {
   "cell_type": "markdown",
   "metadata": {},
   "source": [
    "# Graph"
   ]
  },
  {
   "cell_type": "code",
   "execution_count": 98,
   "metadata": {},
   "outputs": [],
   "source": [
    "classifier = ML_Model\n",
    "y_pos = np.arange(len(classifier))"
   ]
  },
  {
   "cell_type": "markdown",
   "metadata": {},
   "source": [
    "# Accuracy"
   ]
  },
  {
   "cell_type": "code",
   "execution_count": 99,
   "metadata": {},
   "outputs": [
    {
     "data": {
      "image/png": "[encoded data removed]",
      "text/plain": [
       "<Figure size 432x288 with 1 Axes>"
      ]
     },
     "metadata": {
      "needs_background": "light"
     },
     "output_type": "display_data"
    }
   ],
   "source": [
    "import matplotlib.pyplot as plt2\n",
    "plt2.barh(y_pos, accuracy, align='center', alpha=0.5,color='blue')\n",
    "plt2.yticks(y_pos, classifier)\n",
    "plt2.xlabel('Accuracy Score')\n",
    "plt2.title('Classification Performance')\n",
    "plt2.show()"
   ]
  },
  {
   "cell_type": "markdown",
   "metadata": {},
   "source": [
    "# Precision"
   ]
  },
  {
   "cell_type": "code",
   "execution_count": 100,
   "metadata": {},
   "outputs": [
    {
     "data": {
      "image/png": "[encoded data removed]",
      "text/plain": [
       "<Figure size 432x288 with 1 Axes>"
      ]
     },
     "metadata": {
      "needs_background": "light"
     },
     "output_type": "display_data"
    }
   ],
   "source": [
    "plt2.barh(y_pos, precision, align='center', alpha=0.5,color='red')\n",
    "plt2.yticks(y_pos, classifier)\n",
    "plt2.xlabel('Precision Score')\n",
    "plt2.title('Classification Performance')\n",
    "plt2.show()"
   ]
  },
  {
   "cell_type": "markdown",
   "metadata": {},
   "source": [
    "# Recall"
   ]
  },
  {
   "cell_type": "code",
   "execution_count": 101,
   "metadata": {},
   "outputs": [
    {
     "data": {
      "image/png": "[encoded data removed]",
      "text/plain": [
       "<Figure size 432x288 with 1 Axes>"
      ]
     },
     "metadata": {
      "needs_background": "light"
     },
     "output_type": "display_data"
    }
   ],
   "source": [
    "plt2.barh(y_pos, recall, align='center', alpha=0.5,color='cyan')\n",
    "plt2.yticks(y_pos, classifier)\n",
    "plt2.xlabel('Recall Score')\n",
    "plt2.title('Classification Performance')\n",
    "plt2.show()"
   ]
  },
  {
   "cell_type": "markdown",
   "metadata": {},
   "source": [
    "# F1 SCore"
   ]
  },
  {
   "cell_type": "code",
   "execution_count": 102,
   "metadata": {},
   "outputs": [
    {
     "data": {
      "image/png": "[encoded data removed]",
      "text/plain": [
       "<Figure size 432x288 with 1 Axes>"
      ]
     },
     "metadata": {
      "needs_background": "light"
     },
     "output_type": "display_data"
    }
   ],
   "source": [
    "plt2.barh(y_pos, f1score, align='center', alpha=0.5,color='magenta')\n",
    "plt2.yticks(y_pos, classifier)\n",
    "plt2.xlabel('F1 Score')\n",
    "plt2.title('Classification Performance')\n",
    "plt2.show()"
   ]
  },
  {
   "cell_type": "code",
   "execution_count": null,
   "metadata": {},
   "outputs": [],
   "source": []
  }
 ],
 "metadata": {
  "kernelspec": {
   "display_name": "Python 3 (ipykernel)",
   "language": "python",
   "name": "python3"
  },
  "language_info": {
   "codemirror_mode": {
    "name": "ipython",
    "version": 3
   },
   "file_extension": ".py",
   "mimetype": "text/x-python",
   "name": "python",
   "nbconvert_exporter": "python",
   "pygments_lexer": "ipython3",
   "version": "3.11.7"
  }
 },
 "nbformat": 4,
 "nbformat_minor": 4
}
